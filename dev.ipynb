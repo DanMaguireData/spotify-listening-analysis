{
    "cells": [
        {
            "cell_type": "code",
            "execution_count": 99,
            "id": "0edee39b",
            "metadata": {},
            "outputs": [],
            "source": [
                "import pandas as pd\n",
                "import math\n",
                "import numpy as np"
            ]
        },
        {
            "cell_type": "code",
            "execution_count": 120,
            "id": "dda1d7b7",
            "metadata": {},
            "outputs": [],
            "source": [
                "scores = pd.read_csv(\"data/merged.csv\", index_col=0)\n",
                "#scores[\"streamed_at\"] = pd.to_datetime(scores[\"streamed_at\"])\n",
                "scores[\"streamed_at\"] = pd.to_datetime(scores[\"streamed_at\"], format='ISO8601')"
            ]
        },
        {
            "cell_type": "markdown",
            "id": "b0f64148",
            "metadata": {},
            "source": [
                "# Aggregate Artists"
            ]
        },
        {
            "cell_type": "code",
            "execution_count": 235,
            "id": "e3d26683",
            "metadata": {},
            "outputs": [
                {
                    "data": {
                        "text/plain": [
                            "streamed_at                                     2023-10-09 11:00:21+00:00\n",
                            "track_name                                                   All Hallows'\n",
                            "album_name                                                  The Number 23\n",
                            "album_artist                                                    CASISDEAD\n",
                            "track_id                                           6ULlKqfE82gMmXr7XEJVrE\n",
                            "ms_played                                                           740.0\n",
                            "ip_addr                                                     80.233.60.194\n",
                            "reason_start                                                     clickrow\n",
                            "reason_end                                                        endplay\n",
                            "shuffle                                                             False\n",
                            "skipped                                                              True\n",
                            "full_track_name                                  CASISDEAD - All Hallows'\n",
                            "conn_country                                                           IE\n",
                            "added_at                                             2023-04-08T11:21:22Z\n",
                            "album_release_date                                             2014-12-30\n",
                            "album_artists                                               ['CASISDEAD']\n",
                            "track_artists                                               ['CASISDEAD']\n",
                            "track_duration_ms                                                  166535\n",
                            "track_popularity                                                       48\n",
                            "playlists                                     ['Liked Songs', 'Next Era']\n",
                            "album_artwork_url       https://i.scdn.co/image/ab67616d0000b273d8de01...\n",
                            "fraction_played                                                  0.004444\n",
                            "start_score                                                           1.0\n",
                            "end_score                                                             0.0\n",
                            "is_saved                                                             True\n",
                            "enjoyment_score                                                  1.004444\n",
                            "enjoyment_score_norm                                             0.500382\n",
                            "Name: 0, dtype: object"
                        ]
                    },
                    "execution_count": 235,
                    "metadata": {},
                    "output_type": "execute_result"
                }
            ],
            "source": [
                "scores.loc[0]"
            ]
        },
        {
            "cell_type": "code",
            "execution_count": null,
            "id": "8cd982dd",
            "metadata": {},
            "outputs": [],
            "source": []
        }
    ],
    "metadata": {
        "kernelspec": {
            "display_name": ".venv",
            "language": "python",
            "name": "python3"
        },
        "language_info": {
            "codemirror_mode": {
                "name": "ipython",
                "version": 3
            },
            "file_extension": ".py",
            "mimetype": "text/x-python",
            "name": "python",
            "nbconvert_exporter": "python",
            "pygments_lexer": "ipython3",
            "version": "3.11.13"
        }
    },
    "nbformat": 4,
    "nbformat_minor": 5
}
